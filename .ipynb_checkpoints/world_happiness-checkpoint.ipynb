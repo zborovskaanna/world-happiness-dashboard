{
 "cells": [
  {
   "cell_type": "code",
   "execution_count": 2,
   "id": "9cbf82b9",
   "metadata": {},
   "outputs": [],
   "source": [
    "import pandas as pd\n",
    "import numpy as np"
   ]
  },
  {
   "cell_type": "code",
   "execution_count": 26,
   "id": "c2509ce4",
   "metadata": {},
   "outputs": [],
   "source": [
    "# Завантаження даних за кожний рік та додавання до кожноdata_list = []\n",
    "\n",
    "for year in range(2015, 2024):\n",
    "    filename = f'/home/anna/data/archive/WHR_{year}.csv'\n",
    "    data = pd.read_csv(filename)\n",
    "    data['year'] = year\n",
    "    data_list.append(data)"
   ]
  },
  {
   "cell_type": "code",
   "execution_count": 27,
   "id": "cabf8238",
   "metadata": {},
   "outputs": [],
   "source": [
    "all_data = pd.concat(data_list, ignore_index=True)"
   ]
  },
  {
   "cell_type": "code",
   "execution_count": 28,
   "id": "97e60b7c",
   "metadata": {},
   "outputs": [
    {
     "data": {
      "text/plain": [
       "country                         0\n",
       "region                          0\n",
       "happiness_score                 0\n",
       "gdp_per_capita                  0\n",
       "social_support                  0\n",
       "healthy_life_expectancy         1\n",
       "freedom_to_make_life_choices    0\n",
       "generosity                      0\n",
       "perceptions_of_corruption       1\n",
       "year                            0\n",
       "dtype: int64"
      ]
     },
     "execution_count": 28,
     "metadata": {},
     "output_type": "execute_result"
    }
   ],
   "source": [
    "all_data.isnull().sum()"
   ]
  },
  {
   "cell_type": "code",
   "execution_count": 29,
   "id": "aa09b5dd",
   "metadata": {},
   "outputs": [
    {
     "data": {
      "text/html": [
       "<div>\n",
       "<style scoped>\n",
       "    .dataframe tbody tr th:only-of-type {\n",
       "        vertical-align: middle;\n",
       "    }\n",
       "\n",
       "    .dataframe tbody tr th {\n",
       "        vertical-align: top;\n",
       "    }\n",
       "\n",
       "    .dataframe thead th {\n",
       "        text-align: right;\n",
       "    }\n",
       "</style>\n",
       "<table border=\"1\" class=\"dataframe\">\n",
       "  <thead>\n",
       "    <tr style=\"text-align: right;\">\n",
       "      <th></th>\n",
       "      <th>country</th>\n",
       "      <th>region</th>\n",
       "      <th>happiness_score</th>\n",
       "      <th>gdp_per_capita</th>\n",
       "      <th>social_support</th>\n",
       "      <th>healthy_life_expectancy</th>\n",
       "      <th>freedom_to_make_life_choices</th>\n",
       "      <th>generosity</th>\n",
       "      <th>perceptions_of_corruption</th>\n",
       "      <th>year</th>\n",
       "    </tr>\n",
       "  </thead>\n",
       "  <tbody>\n",
       "    <tr>\n",
       "      <th>489</th>\n",
       "      <td>United Arab Emirates</td>\n",
       "      <td>Middle East and North Africa</td>\n",
       "      <td>6.774</td>\n",
       "      <td>2.096</td>\n",
       "      <td>0.776</td>\n",
       "      <td>0.67</td>\n",
       "      <td>0.284</td>\n",
       "      <td>0.186</td>\n",
       "      <td>NaN</td>\n",
       "      <td>2018</td>\n",
       "    </tr>\n",
       "  </tbody>\n",
       "</table>\n",
       "</div>"
      ],
      "text/plain": [
       "                  country                        region  happiness_score  \\\n",
       "489  United Arab Emirates  Middle East and North Africa            6.774   \n",
       "\n",
       "     gdp_per_capita  social_support  healthy_life_expectancy  \\\n",
       "489           2.096           0.776                     0.67   \n",
       "\n",
       "     freedom_to_make_life_choices  generosity  perceptions_of_corruption  year  \n",
       "489                         0.284       0.186                        NaN  2018  "
      ]
     },
     "execution_count": 29,
     "metadata": {},
     "output_type": "execute_result"
    }
   ],
   "source": [
    "all_data.loc[all_data['perceptions_of_corruption'].isnull()]"
   ]
  },
  {
   "cell_type": "code",
   "execution_count": 31,
   "id": "33e04a33",
   "metadata": {},
   "outputs": [],
   "source": [
    "mean_cor_UAE = all_data[all_data['country'] == 'United Arab Emirates']['perceptions_of_corruption'].mean()"
   ]
  },
  {
   "cell_type": "code",
   "execution_count": 32,
   "id": "129e8859",
   "metadata": {},
   "outputs": [
    {
     "data": {
      "text/plain": [
       "0.27351788525"
      ]
     },
     "execution_count": 32,
     "metadata": {},
     "output_type": "execute_result"
    }
   ],
   "source": [
    "mean_cor_UAE\n"
   ]
  },
  {
   "cell_type": "code",
   "execution_count": 33,
   "id": "4f61f466",
   "metadata": {},
   "outputs": [],
   "source": [
    "all_data['perceptions_of_corruption'].fillna(mean_cor_UAE, inplace=True)"
   ]
  },
  {
   "cell_type": "code",
   "execution_count": 35,
   "id": "b45b9463",
   "metadata": {},
   "outputs": [],
   "source": [
    "all_data.to_csv('WH_2015-2023.csv', index=False)"
   ]
  },
  {
   "cell_type": "code",
   "execution_count": 38,
   "id": "3ad0b921",
   "metadata": {},
   "outputs": [
    {
     "data": {
      "text/html": [
       "<div>\n",
       "<style scoped>\n",
       "    .dataframe tbody tr th:only-of-type {\n",
       "        vertical-align: middle;\n",
       "    }\n",
       "\n",
       "    .dataframe tbody tr th {\n",
       "        vertical-align: top;\n",
       "    }\n",
       "\n",
       "    .dataframe thead th {\n",
       "        text-align: right;\n",
       "    }\n",
       "</style>\n",
       "<table border=\"1\" class=\"dataframe\">\n",
       "  <thead>\n",
       "    <tr style=\"text-align: right;\">\n",
       "      <th></th>\n",
       "      <th>country</th>\n",
       "      <th>region</th>\n",
       "      <th>happiness_score</th>\n",
       "      <th>gdp_per_capita</th>\n",
       "      <th>social_support</th>\n",
       "      <th>healthy_life_expectancy</th>\n",
       "      <th>freedom_to_make_life_choices</th>\n",
       "      <th>generosity</th>\n",
       "      <th>perceptions_of_corruption</th>\n",
       "      <th>year</th>\n",
       "    </tr>\n",
       "  </thead>\n",
       "  <tbody>\n",
       "    <tr>\n",
       "      <th>0</th>\n",
       "      <td>Switzerland</td>\n",
       "      <td>Western Europe</td>\n",
       "      <td>7.587</td>\n",
       "      <td>1.39651</td>\n",
       "      <td>1.34951</td>\n",
       "      <td>0.94143</td>\n",
       "      <td>0.66557</td>\n",
       "      <td>0.29678</td>\n",
       "      <td>0.41978</td>\n",
       "      <td>2015</td>\n",
       "    </tr>\n",
       "    <tr>\n",
       "      <th>1</th>\n",
       "      <td>Iceland</td>\n",
       "      <td>Western Europe</td>\n",
       "      <td>7.561</td>\n",
       "      <td>1.30232</td>\n",
       "      <td>1.40223</td>\n",
       "      <td>0.94784</td>\n",
       "      <td>0.62877</td>\n",
       "      <td>0.43630</td>\n",
       "      <td>0.14145</td>\n",
       "      <td>2015</td>\n",
       "    </tr>\n",
       "    <tr>\n",
       "      <th>2</th>\n",
       "      <td>Denmark</td>\n",
       "      <td>Western Europe</td>\n",
       "      <td>7.527</td>\n",
       "      <td>1.32548</td>\n",
       "      <td>1.36058</td>\n",
       "      <td>0.87464</td>\n",
       "      <td>0.64938</td>\n",
       "      <td>0.34139</td>\n",
       "      <td>0.48357</td>\n",
       "      <td>2015</td>\n",
       "    </tr>\n",
       "    <tr>\n",
       "      <th>3</th>\n",
       "      <td>Norway</td>\n",
       "      <td>Western Europe</td>\n",
       "      <td>7.522</td>\n",
       "      <td>1.45900</td>\n",
       "      <td>1.33095</td>\n",
       "      <td>0.88521</td>\n",
       "      <td>0.66973</td>\n",
       "      <td>0.34699</td>\n",
       "      <td>0.36503</td>\n",
       "      <td>2015</td>\n",
       "    </tr>\n",
       "    <tr>\n",
       "      <th>4</th>\n",
       "      <td>Canada</td>\n",
       "      <td>North America and ANZ</td>\n",
       "      <td>7.427</td>\n",
       "      <td>1.32629</td>\n",
       "      <td>1.32261</td>\n",
       "      <td>0.90563</td>\n",
       "      <td>0.63297</td>\n",
       "      <td>0.45811</td>\n",
       "      <td>0.32957</td>\n",
       "      <td>2015</td>\n",
       "    </tr>\n",
       "  </tbody>\n",
       "</table>\n",
       "</div>"
      ],
      "text/plain": [
       "       country                 region  happiness_score  gdp_per_capita  \\\n",
       "0  Switzerland         Western Europe            7.587         1.39651   \n",
       "1      Iceland         Western Europe            7.561         1.30232   \n",
       "2      Denmark         Western Europe            7.527         1.32548   \n",
       "3       Norway         Western Europe            7.522         1.45900   \n",
       "4       Canada  North America and ANZ            7.427         1.32629   \n",
       "\n",
       "   social_support  healthy_life_expectancy  freedom_to_make_life_choices  \\\n",
       "0         1.34951                  0.94143                       0.66557   \n",
       "1         1.40223                  0.94784                       0.62877   \n",
       "2         1.36058                  0.87464                       0.64938   \n",
       "3         1.33095                  0.88521                       0.66973   \n",
       "4         1.32261                  0.90563                       0.63297   \n",
       "\n",
       "   generosity  perceptions_of_corruption  year  \n",
       "0     0.29678                    0.41978  2015  \n",
       "1     0.43630                    0.14145  2015  \n",
       "2     0.34139                    0.48357  2015  \n",
       "3     0.34699                    0.36503  2015  \n",
       "4     0.45811                    0.32957  2015  "
      ]
     },
     "execution_count": 38,
     "metadata": {},
     "output_type": "execute_result"
    }
   ],
   "source": [
    "all_data.head(5)"
   ]
  },
  {
   "cell_type": "code",
   "execution_count": null,
   "id": "b8d013bf",
   "metadata": {},
   "outputs": [],
   "source": []
  }
 ],
 "metadata": {
  "kernelspec": {
   "display_name": "Python 3 (ipykernel)",
   "language": "python",
   "name": "python3"
  },
  "language_info": {
   "codemirror_mode": {
    "name": "ipython",
    "version": 3
   },
   "file_extension": ".py",
   "mimetype": "text/x-python",
   "name": "python",
   "nbconvert_exporter": "python",
   "pygments_lexer": "ipython3",
   "version": "3.11.5"
  }
 },
 "nbformat": 4,
 "nbformat_minor": 5
}
